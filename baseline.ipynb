{
 "cells": [
  {
   "cell_type": "code",
   "execution_count": null,
   "id": "74f07ad6-0ef9-4368-9ad2-266ad9a0ac42",
   "metadata": {},
   "outputs": [],
   "source": [
    "import pandas as pd\n",
    "import numpy as np\n",
    "from sklearn.linear_model import LogisticRegression\n",
    "\n",
    "train = pd.read_csv('shift_ml_2025_train.csv')\n",
    "target = train['итоговый_статус_займа']\n",
    "test = pd.read_csv('shift_ml_2025_test.csv')\n",
    "\n",
    "# Выбираем только нужные признаки\n",
    "features = ['сумма_займа', 'лимит_по_картам']\n",
    "X_train = train[features]\n",
    "X_train = X_train.fillna(0)\n",
    "\n",
    "y_train = target\n",
    "X_test = test[features]\n",
    "X_test = X_test.fillna(0)\n",
    "\n",
    "# Обучаем логистическую регрессию\n",
    "model = LogisticRegression()\n",
    "model.fit(X_train, y_train)\n",
    "\n",
    "# Делаем предсказания\n",
    "test_predict = model.predict_proba(X_test)[:, 1]\n",
    "\n",
    "# Формируем сабмит\n",
    "answer = pd.DataFrame()\n",
    "answer['id'] = test['id']\n",
    "answer['proba'] = test_predict\n",
    "answer.to_csv('submission.csv', index=False)"
   ]
  }
 ],
 "metadata": {
  "kernelspec": {
   "display_name": "base",
   "language": "python",
   "name": "python3"
  },
  "language_info": {
   "codemirror_mode": {
    "name": "ipython",
    "version": 3
   },
   "file_extension": ".py",
   "mimetype": "text/x-python",
   "name": "python",
   "nbconvert_exporter": "python",
   "pygments_lexer": "ipython3",
   "version": "3.12.4"
  }
 },
 "nbformat": 4,
 "nbformat_minor": 5
}
